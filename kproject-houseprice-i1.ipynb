{
 "cells": [
  {
   "cell_type": "code",
   "execution_count": 1,
   "id": "8407a14d",
   "metadata": {
    "_cell_guid": "b1076dfc-b9ad-4769-8c92-a6c4dae69d19",
    "_uuid": "8f2839f25d086af736a60e9eeb907d3b93b6e0e5",
    "execution": {
     "iopub.execute_input": "2022-03-22T21:57:37.016033Z",
     "iopub.status.busy": "2022-03-22T21:57:37.015223Z",
     "iopub.status.idle": "2022-03-22T21:57:38.367066Z",
     "shell.execute_reply": "2022-03-22T21:57:38.367742Z",
     "shell.execute_reply.started": "2022-03-22T21:51:14.273980Z"
    },
    "papermill": {
     "duration": 1.376392,
     "end_time": "2022-03-22T21:57:38.368061",
     "exception": false,
     "start_time": "2022-03-22T21:57:36.991669",
     "status": "completed"
    },
    "tags": []
   },
   "outputs": [],
   "source": [
    "\"\"\" Script for Kaggle Housing Price prediction competition. Copied to Notebook from Spyder.\n",
    "Created on Sat Jan 29 12:34:42 2022\"\"\"\n",
    "\n",
    "import numpy as np\n",
    "import pickle, os\n",
    "import pandas as pd\n",
    "import matplotlib.pyplot as plt\n",
    "import seaborn as sns\n",
    "\n",
    "from sklearn.preprocessing import StandardScaler, PolynomialFeatures, OneHotEncoder, LabelEncoder\n",
    "from sklearn.model_selection import KFold, cross_val_predict, GridSearchCV\n",
    "from sklearn.linear_model import LinearRegression, Lasso, Ridge\n",
    "from sklearn.metrics import r2_score\n",
    "from sklearn.pipeline import Pipeline\n",
    "from scipy.stats import boxcox\n",
    "from scipy.special import inv_boxcox\n",
    "\n",
    "pd.options.mode.chained_assignment = None  # default='warn'\n",
    "\n",
    "pd.set_option('display.max_columns', 35)\n",
    "\n",
    "#os.chdir(\"H:/Dropbox/Kaggle/house_prices\")\n",
    "#path "
   ]
  },
  {
   "cell_type": "code",
   "execution_count": 2,
   "id": "846a962e",
   "metadata": {
    "_cell_guid": "b1076dfc-b9ad-4769-8c92-a6c4dae69d19",
    "_uuid": "8f2839f25d086af736a60e9eeb907d3b93b6e0e5",
    "execution": {
     "iopub.execute_input": "2022-03-22T21:57:38.395139Z",
     "iopub.status.busy": "2022-03-22T21:57:38.394330Z",
     "iopub.status.idle": "2022-03-22T21:57:38.509325Z",
     "shell.execute_reply": "2022-03-22T21:57:38.509845Z",
     "shell.execute_reply.started": "2022-03-22T21:51:49.714680Z"
    },
    "papermill": {
     "duration": 0.131093,
     "end_time": "2022-03-22T21:57:38.510057",
     "exception": false,
     "start_time": "2022-03-22T21:57:38.378964",
     "status": "completed"
    },
    "tags": []
   },
   "outputs": [
    {
     "name": "stdout",
     "output_type": "stream",
     "text": [
      "   Id  MSSubClass MSZoning  LotFrontage  LotArea Street Alley LotShape  \\\n",
      "0   1          60       RL         65.0     8450   Pave   NaN      Reg   \n",
      "1   2          20       RL         80.0     9600   Pave   NaN      Reg   \n",
      "2   3          60       RL         68.0    11250   Pave   NaN      IR1   \n",
      "3   4          70       RL         60.0     9550   Pave   NaN      IR1   \n",
      "4   5          60       RL         84.0    14260   Pave   NaN      IR1   \n",
      "\n",
      "  LandContour Utilities LotConfig LandSlope Neighborhood Condition1  \\\n",
      "0         Lvl    AllPub    Inside       Gtl      CollgCr       Norm   \n",
      "1         Lvl    AllPub       FR2       Gtl      Veenker      Feedr   \n",
      "2         Lvl    AllPub    Inside       Gtl      CollgCr       Norm   \n",
      "3         Lvl    AllPub    Corner       Gtl      Crawfor       Norm   \n",
      "4         Lvl    AllPub       FR2       Gtl      NoRidge       Norm   \n",
      "\n",
      "  Condition2 BldgType HouseStyle  ...  PavedDrive  WoodDeckSF  OpenPorchSF  \\\n",
      "0       Norm     1Fam     2Story  ...           Y           0           61   \n",
      "1       Norm     1Fam     1Story  ...           Y         298            0   \n",
      "2       Norm     1Fam     2Story  ...           Y           0           42   \n",
      "3       Norm     1Fam     2Story  ...           Y           0           35   \n",
      "4       Norm     1Fam     2Story  ...           Y         192           84   \n",
      "\n",
      "   EnclosedPorch 3SsnPorch ScreenPorch PoolArea PoolQC Fence  MiscFeature  \\\n",
      "0              0         0           0        0    NaN   NaN          NaN   \n",
      "1              0         0           0        0    NaN   NaN          NaN   \n",
      "2              0         0           0        0    NaN   NaN          NaN   \n",
      "3            272         0           0        0    NaN   NaN          NaN   \n",
      "4              0         0           0        0    NaN   NaN          NaN   \n",
      "\n",
      "  MiscVal MoSold YrSold SaleType SaleCondition SalePrice sample  \n",
      "0       0      2   2008       WD        Normal  208500.0  train  \n",
      "1       0      5   2007       WD        Normal  181500.0  train  \n",
      "2       0      9   2008       WD        Normal  223500.0  train  \n",
      "3       0      2   2006       WD       Abnorml  140000.0  train  \n",
      "4       0     12   2008       WD        Normal  250000.0  train  \n",
      "\n",
      "[5 rows x 82 columns]\n",
      "(2919, 82)\n"
     ]
    }
   ],
   "source": [
    "hspr = pd.read_csv(\"../input/house-prices-advanced-regression-techniques/train.csv\") # titanic_fullsample\n",
    "hspr['sample']='train'\n",
    "test_s = pd.read_csv(\"../input/house-prices-advanced-regression-techniques/test.csv\") \n",
    "test_s['SalePrice']=np.nan\n",
    "test_s[['SalePrice', 'sample']] = [np.nan, 'test']\n",
    "hspr=pd.concat([hspr, test_s])\n",
    "hspr.reset_index(inplace=True, drop=True)\n",
    "print(hspr.head())\n",
    "print(hspr.shape)"
   ]
  },
  {
   "cell_type": "code",
   "execution_count": 3,
   "id": "d84c78ff",
   "metadata": {
    "_cell_guid": "b1076dfc-b9ad-4769-8c92-a6c4dae69d19",
    "_uuid": "8f2839f25d086af736a60e9eeb907d3b93b6e0e5",
    "execution": {
     "iopub.execute_input": "2022-03-22T21:57:38.536951Z",
     "iopub.status.busy": "2022-03-22T21:57:38.536077Z",
     "iopub.status.idle": "2022-03-22T21:57:38.602551Z",
     "shell.execute_reply": "2022-03-22T21:57:38.603301Z",
     "shell.execute_reply.started": "2022-03-22T21:51:53.850094Z"
    },
    "papermill": {
     "duration": 0.08469,
     "end_time": "2022-03-22T21:57:38.603545",
     "exception": false,
     "start_time": "2022-03-22T21:57:38.518855",
     "status": "completed"
    },
    "tags": []
   },
   "outputs": [
    {
     "name": "stdout",
     "output_type": "stream",
     "text": [
      "<class 'pandas.core.frame.DataFrame'>\n",
      "RangeIndex: 2919 entries, 0 to 2918\n",
      "Data columns (total 22 columns):\n",
      " #   Column        Non-Null Count  Dtype  \n",
      "---  ------        --------------  -----  \n",
      " 0   Id            2919 non-null   int64  \n",
      " 1   SalePrice     1460 non-null   float64\n",
      " 2   LotArea       2919 non-null   int64  \n",
      " 3   OverallQual   2919 non-null   int64  \n",
      " 4   OverallCond   2919 non-null   int64  \n",
      " 5   YearBuilt     2919 non-null   int64  \n",
      " 6   ExterCond     2919 non-null   object \n",
      " 7   BsmtFinSF1    2918 non-null   float64\n",
      " 8   TotalBsmtSF   2918 non-null   float64\n",
      " 9   HeatingQC     2919 non-null   object \n",
      " 10  1stFlrSF      2919 non-null   int64  \n",
      " 11  2ndFlrSF      2919 non-null   int64  \n",
      " 12  GrLivArea     2919 non-null   int64  \n",
      " 13  FullBath      2919 non-null   int64  \n",
      " 14  HalfBath      2919 non-null   int64  \n",
      " 15  KitchenQual   2918 non-null   object \n",
      " 16  GarageArea    2918 non-null   float64\n",
      " 17  GarageCars    2918 non-null   float64\n",
      " 18  TotRmsAbvGrd  2919 non-null   int64  \n",
      " 19  BedroomAbvGr  2919 non-null   int64  \n",
      " 20  ExterQual     2919 non-null   object \n",
      " 21  sample        2919 non-null   object \n",
      "dtypes: float64(5), int64(12), object(5)\n",
      "memory usage: 501.8+ KB\n",
      "<class 'pandas.core.frame.DataFrame'>\n",
      "RangeIndex: 2919 entries, 0 to 2918\n",
      "Data columns (total 21 columns):\n",
      " #   Column        Non-Null Count  Dtype  \n",
      "---  ------        --------------  -----  \n",
      " 0   SalePrice     1460 non-null   float64\n",
      " 1   LotArea       2919 non-null   int64  \n",
      " 2   OverallQual   2919 non-null   int64  \n",
      " 3   OverallCond   2919 non-null   int64  \n",
      " 4   YearBuilt     2919 non-null   int64  \n",
      " 5   ExterCond     2919 non-null   int64  \n",
      " 6   BsmtFinSF1    2919 non-null   float64\n",
      " 7   TotalBsmtSF   2919 non-null   float64\n",
      " 8   HeatingQC     2919 non-null   int64  \n",
      " 9   1stFlrSF      2919 non-null   int64  \n",
      " 10  2ndFlrSF      2919 non-null   int64  \n",
      " 11  GrLivArea     2919 non-null   int64  \n",
      " 12  FullBath      2919 non-null   int64  \n",
      " 13  HalfBath      2919 non-null   int64  \n",
      " 14  KitchenQual   2919 non-null   float64\n",
      " 15  GarageArea    2919 non-null   float64\n",
      " 16  GarageCars    2919 non-null   float64\n",
      " 17  TotRmsAbvGrd  2919 non-null   int64  \n",
      " 18  BedroomAbvGr  2919 non-null   int64  \n",
      " 19  ExterQual     2919 non-null   int64  \n",
      " 20  sample        2919 non-null   object \n",
      "dtypes: float64(6), int64(14), object(1)\n",
      "memory usage: 479.0+ KB\n"
     ]
    }
   ],
   "source": [
    "#%% data cleaning ###\n",
    "\n",
    "cols_tokeep = ['Id', 'SalePrice', 'LotArea', 'OverallQual', 'OverallCond', 'YearBuilt', 'ExterCond',\n",
    "               'BsmtFinSF1', 'TotalBsmtSF', 'HeatingQC', '1stFlrSF', '2ndFlrSF', 'GrLivArea', 'FullBath', 'HalfBath', \n",
    "               'KitchenQual', 'GarageArea', 'GarageCars', 'TotRmsAbvGrd', 'BedroomAbvGr',\n",
    "               'ExterQual', 'sample']\n",
    "hspr = hspr[cols_tokeep]\n",
    "hspr.info()\n",
    "hspr0 = hspr.copy()\n",
    "hspr.drop(columns=['Id'],inplace=True)\n",
    "\n",
    "\n",
    "ord_cols = ['ExterCond', 'HeatingQC', 'KitchenQual', 'ExterQual']\n",
    "hspr[ord_cols] = hspr[ord_cols].replace(['Po', 'Fa', 'TA', 'Gd', 'Ex'], [1,2,3,4,5])\n",
    "#print(hspr.BsmtCond.value_counts())\n",
    "\n",
    "hspr['BsmtFinSF1'][hspr['BsmtFinSF1'].isna()] = hspr['BsmtFinSF1'].min()\n",
    "hspr['TotalBsmtSF'][hspr['TotalBsmtSF'].isna()] = hspr['TotalBsmtSF'].min()\n",
    "hspr['KitchenQual'][hspr['KitchenQual'].isna()] = hspr['KitchenQual'].min()\n",
    "hspr['GarageArea'][hspr['GarageArea'].isna()] = hspr['GarageArea'].min()\n",
    "hspr['GarageCars'][hspr['GarageCars'].isna()] = hspr['GarageCars'].min()\n",
    "hspr.info()\n",
    "\n",
    "# it makes sense to replace YearBuilt with Age\n",
    "hspr['Age']=2010-hspr.YearBuilt\n",
    "hspr.drop(columns=['YearBuilt'], inplace=True)"
   ]
  },
  {
   "cell_type": "code",
   "execution_count": 4,
   "id": "3688e481",
   "metadata": {
    "_cell_guid": "b1076dfc-b9ad-4769-8c92-a6c4dae69d19",
    "_uuid": "8f2839f25d086af736a60e9eeb907d3b93b6e0e5",
    "execution": {
     "iopub.execute_input": "2022-03-22T21:57:38.626559Z",
     "iopub.status.busy": "2022-03-22T21:57:38.625556Z",
     "iopub.status.idle": "2022-03-22T21:57:38.649319Z",
     "shell.execute_reply": "2022-03-22T21:57:38.650250Z",
     "shell.execute_reply.started": "2022-03-22T21:51:58.965315Z"
    },
    "papermill": {
     "duration": 0.036989,
     "end_time": "2022-03-22T21:57:38.650475",
     "exception": false,
     "start_time": "2022-03-22T21:57:38.613486",
     "status": "completed"
    },
    "tags": []
   },
   "outputs": [
    {
     "name": "stdout",
     "output_type": "stream",
     "text": [
      "                Skew\n",
      "LotArea    12.829025\n",
      "1stFlrSF    1.470360\n",
      "ExterCond   1.316590\n",
      "GrLivArea   1.270010\n"
     ]
    },
    {
     "data": {
      "text/plain": [
       "-0.505010100221913"
      ]
     },
     "execution_count": 4,
     "metadata": {},
     "output_type": "execute_result"
    }
   ],
   "source": [
    "#%% check for skew and outliers ###\n",
    "\n",
    "# check skew:\n",
    "    \n",
    "temp = (hspr.dtypes == np.int64)\n",
    "num_cols = hspr.columns[temp]\n",
    "skew_vals = hspr[num_cols].skew() \n",
    "skew_limit = 1\n",
    "    \n",
    "skew_cols = (skew_vals\n",
    "             .sort_values(ascending=False)\n",
    "             .to_frame()\n",
    "             .rename(columns={0:'Skew'})\n",
    "             .query('abs(Skew) > {}'.format(skew_limit)))\n",
    "\n",
    "print(skew_cols)\n",
    "\n",
    "# transform LotArea\n",
    "hspr['LotArea']=np.log1p(hspr.LotArea)\n",
    "hspr['LotArea'].skew()"
   ]
  },
  {
   "cell_type": "code",
   "execution_count": 5,
   "id": "38fe0120",
   "metadata": {
    "_cell_guid": "b1076dfc-b9ad-4769-8c92-a6c4dae69d19",
    "_uuid": "8f2839f25d086af736a60e9eeb907d3b93b6e0e5",
    "execution": {
     "iopub.execute_input": "2022-03-22T21:57:38.674231Z",
     "iopub.status.busy": "2022-03-22T21:57:38.673179Z",
     "iopub.status.idle": "2022-03-22T21:58:07.250000Z",
     "shell.execute_reply": "2022-03-22T21:58:07.251208Z",
     "shell.execute_reply.started": "2022-03-22T21:54:26.358644Z"
    },
    "papermill": {
     "duration": 28.591069,
     "end_time": "2022-03-22T21:58:07.251526",
     "exception": false,
     "start_time": "2022-03-22T21:57:38.660457",
     "status": "completed"
    },
    "tags": []
   },
   "outputs": [
    {
     "name": "stdout",
     "output_type": "stream",
     "text": [
      "0.8481928795025486\n",
      "0.8460036486983817 {'alpha': 0.0026826957952797246}\n",
      "0.8818119355396915 {'polynomial_features__degree': 2, 'ridge_regression__alpha': 300.0}\n"
     ]
    },
    {
     "data": {
      "text/plain": [
       "1.0867007282027819"
      ]
     },
     "execution_count": 5,
     "metadata": {},
     "output_type": "execute_result"
    }
   ],
   "source": [
    "#%% Model fitting ###\n",
    "\n",
    "X = hspr[hspr['sample']=='train'].copy()\n",
    "X.drop(columns=['sample', 'SalePrice'], inplace=True)\n",
    "y = hspr.SalePrice[hspr['sample']=='train'].copy()\n",
    "y = np.log(y)\n",
    "\n",
    "s = StandardScaler()\n",
    "X = s.fit_transform(X)\n",
    "\n",
    "### first, fit ols ###\n",
    "\n",
    "lm = LinearRegression()\n",
    "predictions = cross_val_predict(lm, X, y, cv = 10)\n",
    "score_lm = r2_score(y, predictions)\n",
    "print(score_lm)\n",
    "# 79.4%\n",
    "\n",
    "### second, try lasso ###\n",
    "\n",
    "lasso = Lasso(max_iter=100000)\n",
    "params = {\n",
    "    'alpha': np.geomspace(0.0001, 1, 15)\n",
    "}\n",
    "\n",
    "grid = GridSearchCV(lasso, params, cv=10)\n",
    "\n",
    "grid.fit(X, y)\n",
    "print(grid.best_score_, grid.best_params_)\n",
    "# 80.5%\n",
    "\n",
    "lasso.fit(X,y)\n",
    "lasso.coef_\n",
    "\n",
    "### third, try ridge with polyfeatures ###\n",
    "\n",
    "estimator = Pipeline([(\"polynomial_features\", PolynomialFeatures()),\n",
    "        (\"ridge_regression\", Ridge())])\n",
    "\n",
    "params = {\n",
    "    'polynomial_features__degree': [1, 2, 3],\n",
    "    'ridge_regression__alpha': np.linspace(50, 500, 10)\n",
    "}\n",
    "\n",
    "grid = GridSearchCV(estimator, params, cv=10)\n",
    "\n",
    "grid.fit(X, y)\n",
    "print(grid.best_score_, grid.best_params_)\n",
    "#grid.grid_scores_\n",
    "# 84%\n",
    "\n",
    "np.exp((np.absolute(grid.predict(X)-y)).mean())"
   ]
  },
  {
   "cell_type": "code",
   "execution_count": 6,
   "id": "97972949",
   "metadata": {
    "_cell_guid": "b1076dfc-b9ad-4769-8c92-a6c4dae69d19",
    "_uuid": "8f2839f25d086af736a60e9eeb907d3b93b6e0e5",
    "execution": {
     "iopub.execute_input": "2022-03-22T21:58:07.343597Z",
     "iopub.status.busy": "2022-03-22T21:58:07.342533Z",
     "iopub.status.idle": "2022-03-22T21:58:07.373966Z",
     "shell.execute_reply": "2022-03-22T21:58:07.374966Z",
     "shell.execute_reply.started": "2022-03-22T21:55:20.676448Z"
    },
    "papermill": {
     "duration": 0.085416,
     "end_time": "2022-03-22T21:58:07.375308",
     "exception": false,
     "start_time": "2022-03-22T21:58:07.289892",
     "status": "completed"
    },
    "tags": []
   },
   "outputs": [],
   "source": [
    "#%% predict ###\n",
    "\n",
    "X_test = hspr[hspr['sample']=='test'].copy()\n",
    "X_test.drop(columns=['sample', 'SalePrice'], inplace=True)\n",
    "X_test = s.transform(X_test)\n",
    "\n",
    "yhat = grid.predict(X_test)\n",
    "yhat = np.exp(yhat)\n",
    "\n",
    "id_ = hspr0.Id[hspr0['sample']=='test']\n",
    "\n",
    "results = pd.DataFrame({'Id': id_, 'SalePrice': yhat}, columns=['Id', 'SalePrice'])\n",
    "results.to_csv('HousePrices_subm6_3.csv', index=False)"
   ]
  }
 ],
 "metadata": {
  "kernelspec": {
   "display_name": "Python 3",
   "language": "python",
   "name": "python3"
  },
  "language_info": {
   "codemirror_mode": {
    "name": "ipython",
    "version": 3
   },
   "file_extension": ".py",
   "mimetype": "text/x-python",
   "name": "python",
   "nbconvert_exporter": "python",
   "pygments_lexer": "ipython3",
   "version": "3.7.12"
  },
  "papermill": {
   "default_parameters": {},
   "duration": 41.850675,
   "end_time": "2022-03-22T21:58:08.216264",
   "environment_variables": {},
   "exception": null,
   "input_path": "__notebook__.ipynb",
   "output_path": "__notebook__.ipynb",
   "parameters": {},
   "start_time": "2022-03-22T21:57:26.365589",
   "version": "2.3.3"
  }
 },
 "nbformat": 4,
 "nbformat_minor": 5
}
