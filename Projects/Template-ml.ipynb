{
 "cells": [
  {
   "cell_type": "code",
   "execution_count": 1,
   "id": "793a15e9",
   "metadata": {
    "execution": {
     "iopub.execute_input": "2022-03-23T15:07:18.780850Z",
     "iopub.status.busy": "2022-03-23T15:07:18.771919Z",
     "iopub.status.idle": "2022-03-23T15:07:18.788815Z",
     "shell.execute_reply": "2022-03-23T15:07:18.789396Z",
     "shell.execute_reply.started": "2022-03-23T15:00:07.940773Z"
    },
    "papermill": {
     "duration": 0.041961,
     "end_time": "2022-03-23T15:07:18.789694",
     "exception": false,
     "start_time": "2022-03-23T15:07:18.747733",
     "status": "completed"
    },
    "tags": []
   },
   "outputs": [
    {
     "data": {
      "text/plain": [
       "'Structure of the script:\\n1. Load all needed libraries and functions.\\n2. Load data, do preliminary data exploration.\\n3. [Optional] Transform skewed variables.\\n4. Trnasform features depending on their type. OHC.\\n5. Create subsamples.\\n6. Do scaling.\\n7. Fit models, selecting hyperparameters via CV grid search.\\n8. Evaluate performance of the selected models on test sample.\\n'"
      ]
     },
     "execution_count": 1,
     "metadata": {},
     "output_type": "execute_result"
    }
   ],
   "source": [
    "##################################################################################################\n",
    "### This script is ML Classification template, which should be applicable to most MLC projects ###\n",
    "##################################################################################################\n",
    "\n",
    "\"\"\"Structure of the script:\n",
    "1. Load all needed libraries and functions.\n",
    "2. Load data, do preliminary data exploration.\n",
    "3. [Optional] Transform skewed variables.\n",
    "4. Trnasform features depending on their type. OHC.\n",
    "5. Create subsamples.\n",
    "6. Do scaling.\n",
    "7. Fit models, selecting hyperparameters via CV grid search.\n",
    "8. Evaluate performance of the selected models on test sample.\n",
    "\"\"\""
   ]
  },
  {
   "cell_type": "code",
   "execution_count": 2,
   "id": "7ab38dc6",
   "metadata": {
    "execution": {
     "iopub.execute_input": "2022-03-23T15:07:18.837183Z",
     "iopub.status.busy": "2022-03-23T15:07:18.836457Z",
     "iopub.status.idle": "2022-03-23T15:07:20.500803Z",
     "shell.execute_reply": "2022-03-23T15:07:20.501427Z",
     "shell.execute_reply.started": "2022-03-23T15:00:07.940773Z"
    },
    "papermill": {
     "duration": 1.691679,
     "end_time": "2022-03-23T15:07:20.501617",
     "exception": false,
     "start_time": "2022-03-23T15:07:18.809938",
     "status": "completed"
    },
    "tags": []
   },
   "outputs": [],
   "source": [
    "### 1.Load main libraries ###\n",
    "\n",
    "import numpy as np\n",
    "import pandas as pd\n",
    "import os\n",
    "import seaborn as sns\n",
    "import matplotlib.pyplot as plt\n",
    "\n",
    "from sklearn import svm\n",
    "from sklearn.preprocessing import LabelBinarizer, LabelEncoder, OrdinalEncoder, MinMaxScaler, StandardScaler\n",
    "from sklearn.linear_model import LogisticRegression\n",
    "from sklearn.model_selection import cross_val_score, cross_val_predict, GridSearchCV, train_test_split\n",
    "from sklearn.neighbors import KNeighborsClassifier\n",
    "from sklearn.tree import DecisionTreeClassifier\n",
    "from sklearn.ensemble import RandomForestRegressor, RandomForestClassifier\n",
    "from xgboost import XGBRegressor, XGBClassifier\n",
    "\n",
    "pd.set_option('display.max_columns', 20)\n",
    "pd.set_option('mode.chained_assignment', None)\n",
    "pd.set_option('display.expand_frame_repr', False)"
   ]
  },
  {
   "cell_type": "code",
   "execution_count": 3,
   "id": "65ea5862",
   "metadata": {
    "execution": {
     "iopub.execute_input": "2022-03-23T15:07:20.549556Z",
     "iopub.status.busy": "2022-03-23T15:07:20.545422Z",
     "iopub.status.idle": "2022-03-23T15:07:20.551369Z",
     "shell.execute_reply": "2022-03-23T15:07:20.551818Z",
     "shell.execute_reply.started": "2022-03-23T15:00:11.589557Z"
    },
    "papermill": {
     "duration": 0.029378,
     "end_time": "2022-03-23T15:07:20.552007",
     "exception": false,
     "start_time": "2022-03-23T15:07:20.522629",
     "status": "completed"
    },
    "tags": []
   },
   "outputs": [],
   "source": [
    "def draw_histograms(df, variables, n_rows, n_cols):\n",
    "    # stolen from https://stackoverflow.com/questions/29530355/plotting-multiple-histograms-in-grid\n",
    "    fig=plt.figure()\n",
    "    for i, var_name in enumerate(variables):\n",
    "        ax=fig.add_subplot(n_rows,n_cols,i+1)\n",
    "        df[var_name].hist(bins=10,ax=ax)\n",
    "        ax.set_title(var_name+\" Distribution\")\n",
    "    fig.tight_layout()  \n",
    "    plt.show()"
   ]
  },
  {
   "cell_type": "code",
   "execution_count": 4,
   "id": "c8a18db3",
   "metadata": {
    "execution": {
     "iopub.execute_input": "2022-03-23T15:07:20.595132Z",
     "iopub.status.busy": "2022-03-23T15:07:20.594066Z",
     "iopub.status.idle": "2022-03-23T15:07:20.645980Z",
     "shell.execute_reply": "2022-03-23T15:07:20.646746Z",
     "shell.execute_reply.started": "2022-03-23T15:00:15.580654Z"
    },
    "papermill": {
     "duration": 0.075615,
     "end_time": "2022-03-23T15:07:20.646991",
     "exception": false,
     "start_time": "2022-03-23T15:07:20.571376",
     "status": "completed"
    },
    "tags": []
   },
   "outputs": [
    {
     "name": "stdout",
     "output_type": "stream",
     "text": [
      "(891, 12)\n"
     ]
    },
    {
     "data": {
      "text/html": [
       "<div>\n",
       "<style scoped>\n",
       "    .dataframe tbody tr th:only-of-type {\n",
       "        vertical-align: middle;\n",
       "    }\n",
       "\n",
       "    .dataframe tbody tr th {\n",
       "        vertical-align: top;\n",
       "    }\n",
       "\n",
       "    .dataframe thead th {\n",
       "        text-align: right;\n",
       "    }\n",
       "</style>\n",
       "<table border=\"1\" class=\"dataframe\">\n",
       "  <thead>\n",
       "    <tr style=\"text-align: right;\">\n",
       "      <th></th>\n",
       "      <th>PassengerId</th>\n",
       "      <th>Survived</th>\n",
       "      <th>Pclass</th>\n",
       "      <th>Sex</th>\n",
       "      <th>Age</th>\n",
       "      <th>SibSp</th>\n",
       "      <th>Parch</th>\n",
       "      <th>Fare</th>\n",
       "      <th>Embarked</th>\n",
       "    </tr>\n",
       "  </thead>\n",
       "  <tbody>\n",
       "    <tr>\n",
       "      <th>0</th>\n",
       "      <td>1</td>\n",
       "      <td>0</td>\n",
       "      <td>3</td>\n",
       "      <td>male</td>\n",
       "      <td>22.0</td>\n",
       "      <td>1</td>\n",
       "      <td>0</td>\n",
       "      <td>7.2500</td>\n",
       "      <td>S</td>\n",
       "    </tr>\n",
       "    <tr>\n",
       "      <th>1</th>\n",
       "      <td>2</td>\n",
       "      <td>1</td>\n",
       "      <td>1</td>\n",
       "      <td>female</td>\n",
       "      <td>38.0</td>\n",
       "      <td>1</td>\n",
       "      <td>0</td>\n",
       "      <td>71.2833</td>\n",
       "      <td>C</td>\n",
       "    </tr>\n",
       "    <tr>\n",
       "      <th>2</th>\n",
       "      <td>3</td>\n",
       "      <td>1</td>\n",
       "      <td>3</td>\n",
       "      <td>female</td>\n",
       "      <td>26.0</td>\n",
       "      <td>0</td>\n",
       "      <td>0</td>\n",
       "      <td>7.9250</td>\n",
       "      <td>S</td>\n",
       "    </tr>\n",
       "    <tr>\n",
       "      <th>3</th>\n",
       "      <td>4</td>\n",
       "      <td>1</td>\n",
       "      <td>1</td>\n",
       "      <td>female</td>\n",
       "      <td>35.0</td>\n",
       "      <td>1</td>\n",
       "      <td>0</td>\n",
       "      <td>53.1000</td>\n",
       "      <td>S</td>\n",
       "    </tr>\n",
       "    <tr>\n",
       "      <th>4</th>\n",
       "      <td>5</td>\n",
       "      <td>0</td>\n",
       "      <td>3</td>\n",
       "      <td>male</td>\n",
       "      <td>35.0</td>\n",
       "      <td>0</td>\n",
       "      <td>0</td>\n",
       "      <td>8.0500</td>\n",
       "      <td>S</td>\n",
       "    </tr>\n",
       "  </tbody>\n",
       "</table>\n",
       "</div>"
      ],
      "text/plain": [
       "   PassengerId  Survived  Pclass     Sex   Age  SibSp  Parch     Fare Embarked\n",
       "0            1         0       3    male  22.0      1      0   7.2500        S\n",
       "1            2         1       1  female  38.0      1      0  71.2833        C\n",
       "2            3         1       3  female  26.0      0      0   7.9250        S\n",
       "3            4         1       1  female  35.0      1      0  53.1000        S\n",
       "4            5         0       3    male  35.0      0      0   8.0500        S"
      ]
     },
     "execution_count": 4,
     "metadata": {},
     "output_type": "execute_result"
    }
   ],
   "source": [
    "### 2.Load data ###\n",
    "\n",
    "path = '../input/titanic/train.csv'\n",
    "df = pd.read_csv(path) # titanic_fullsample\n",
    "print(df.shape)\n",
    "df.drop(columns=['Name', 'Ticket', 'Cabin'],inplace=True)\n",
    "df.loc[df.Age.isnull(),'Age'] = df.Age.median()\n",
    "df.head()"
   ]
  },
  {
   "cell_type": "code",
   "execution_count": 5,
   "id": "42993fcf",
   "metadata": {
    "execution": {
     "iopub.execute_input": "2022-03-23T15:07:20.699483Z",
     "iopub.status.busy": "2022-03-23T15:07:20.698368Z",
     "iopub.status.idle": "2022-03-23T15:07:21.908513Z",
     "shell.execute_reply": "2022-03-23T15:07:21.909007Z",
     "shell.execute_reply.started": "2022-03-23T15:00:21.529039Z"
    },
    "papermill": {
     "duration": 1.239987,
     "end_time": "2022-03-23T15:07:21.909194",
     "exception": false,
     "start_time": "2022-03-23T15:07:20.669207",
     "status": "completed"
    },
    "tags": []
   },
   "outputs": [
    {
     "name": "stdout",
     "output_type": "stream",
     "text": [
      "       PassengerId    Survived      Pclass         Age       SibSp       Parch        Fare\n",
      "count   891.000000  891.000000  891.000000  891.000000  891.000000  891.000000  891.000000\n",
      "mean    446.000000    0.383838    2.308642   29.361582    0.523008    0.381594   32.204208\n",
      "std     257.353842    0.486592    0.836071   13.019697    1.102743    0.806057   49.693429\n",
      "min       1.000000    0.000000    1.000000    0.420000    0.000000    0.000000    0.000000\n",
      "25%     223.500000    0.000000    2.000000   22.000000    0.000000    0.000000    7.910400\n",
      "50%     446.000000    0.000000    3.000000   28.000000    0.000000    0.000000   14.454200\n",
      "75%     668.500000    1.000000    3.000000   35.000000    1.000000    0.000000   31.000000\n",
      "max     891.000000    1.000000    3.000000   80.000000    8.000000    6.000000  512.329200\n"
     ]
    },
    {
     "data": {
      "image/png": "[encoded data removed]",
      "text/plain": [
       "<Figure size 432x288 with 9 Axes>"
      ]
     },
     "metadata": {
      "needs_background": "light"
     },
     "output_type": "display_data"
    }
   ],
   "source": [
    "print(df.describe())\n",
    "# sns.pairplot(df[['Survived', 'Pclass', 'Age', 'Fare']])\n",
    "draw_histograms(df, df.columns, 4, 3)"
   ]
  },
  {
   "cell_type": "code",
   "execution_count": 6,
   "id": "ea723dbb",
   "metadata": {
    "execution": {
     "iopub.execute_input": "2022-03-23T15:07:21.957755Z",
     "iopub.status.busy": "2022-03-23T15:07:21.956927Z",
     "iopub.status.idle": "2022-03-23T15:07:21.959799Z",
     "shell.execute_reply": "2022-03-23T15:07:21.960290Z",
     "shell.execute_reply.started": "2022-03-23T15:00:26.610530Z"
    },
    "papermill": {
     "duration": 0.02949,
     "end_time": "2022-03-23T15:07:21.960482",
     "exception": false,
     "start_time": "2022-03-23T15:07:21.930992",
     "status": "completed"
    },
    "tags": []
   },
   "outputs": [],
   "source": [
    "#%% 3.Transform some skewed variables ###\n",
    "\n",
    "df['Fare'] = np.log1p(df.Fare)"
   ]
  },
  {
   "cell_type": "code",
   "execution_count": 7,
   "id": "c6ac6236",
   "metadata": {
    "execution": {
     "iopub.execute_input": "2022-03-23T15:07:22.014130Z",
     "iopub.status.busy": "2022-03-23T15:07:22.013027Z",
     "iopub.status.idle": "2022-03-23T15:07:22.027074Z",
     "shell.execute_reply": "2022-03-23T15:07:22.027685Z",
     "shell.execute_reply.started": "2022-03-23T14:31:40.286558Z"
    },
    "papermill": {
     "duration": 0.045595,
     "end_time": "2022-03-23T15:07:22.027855",
     "exception": false,
     "start_time": "2022-03-23T15:07:21.982260",
     "status": "completed"
    },
    "tags": []
   },
   "outputs": [
    {
     "name": "stdout",
     "output_type": "stream",
     "text": [
      "             Unique Values\n",
      "Variable                  \n",
      "PassengerId            891\n",
      "Survived                 2\n",
      "Pclass                   3\n",
      "Sex                      2\n",
      "Age                     88\n",
      "SibSp                    4\n",
      "Parch                    4\n",
      "Fare                   248\n",
      "Embarked                 4\n",
      "Binary variables are  ['Survived', 'Sex']\n",
      "Categorical variables are  ['Pclass', 'SibSp', 'Parch', 'Embarked']\n",
      "Numeric variables are  ['Fare', 'PassengerId', 'Age']\n"
     ]
    }
   ],
   "source": [
    "#%% 4.Transform features depending on their type ###\n",
    "\n",
    "# this is very important for ML application, where there are hundreds of features.\n",
    "# If there are less than 20 features, can use standard approach.\n",
    "# my approach of tackling one feature a time is not scalable. \n",
    "\n",
    "# use intuition to trim range or ordinary variables \n",
    "# can skip this step in general, since it is not scalable when number of features grows.\n",
    "df.loc[df.SibSp>2,'SibSp']=3\n",
    "df.loc[df.Parch>2,'Parch']=3\n",
    "\n",
    "# identify binary and categorical variables\n",
    "df_uniques = pd.DataFrame([[i, len(df[i].unique())] for i in df.columns], columns=['Variable', 'Unique Values']).set_index('Variable')\n",
    "print(df_uniques)\n",
    "\n",
    "binary_variables = list(df_uniques[df_uniques['Unique Values'] == 2].index)\n",
    "categorical_variables = list(df_uniques[(6 >= df_uniques['Unique Values']) & (df_uniques['Unique Values'] > 2)].index)\n",
    "numeric_variables = list(set(df.columns) - set(categorical_variables) - set(binary_variables))\n",
    "print('Binary variables are ', binary_variables)\n",
    "print('Categorical variables are ', categorical_variables)\n",
    "print('Numeric variables are ', numeric_variables)"
   ]
  },
  {
   "cell_type": "code",
   "execution_count": 8,
   "id": "b578bb2a",
   "metadata": {
    "execution": {
     "iopub.execute_input": "2022-03-23T15:07:22.076871Z",
     "iopub.status.busy": "2022-03-23T15:07:22.075817Z",
     "iopub.status.idle": "2022-03-23T15:07:22.099335Z",
     "shell.execute_reply": "2022-03-23T15:07:22.098691Z",
     "shell.execute_reply.started": "2022-03-23T14:31:47.352021Z"
    },
    "papermill": {
     "duration": 0.049045,
     "end_time": "2022-03-23T15:07:22.099482",
     "exception": false,
     "start_time": "2022-03-23T15:07:22.050437",
     "status": "completed"
    },
    "tags": []
   },
   "outputs": [
    {
     "name": "stdout",
     "output_type": "stream",
     "text": [
      "(891, 15)\n",
      "   PassengerId  Survived  Sex   Age      Fare  Pclass_2  Pclass_3  SibSp_1  SibSp_2  SibSp_3  Parch_1  Parch_2  Parch_3  Embarked_Q  Embarked_S\n",
      "0            1         0    1  22.0  2.110213         0         1        1        0        0        0        0        0           0           1\n",
      "1            2         1    0  38.0  4.280593         0         0        1        0        0        0        0        0           0           0\n",
      "2            3         1    0  26.0  2.188856         0         1        0        0        0        0        0        0           0           1\n",
      "3            4         1    0  35.0  3.990834         0         0        1        0        0        0        0        0           0           1\n",
      "4            5         0    1  35.0  2.202765         0         1        0        0        0        0        0        0           0           1\n"
     ]
    }
   ],
   "source": [
    "# ohc for binary variables #\n",
    "lb = LabelBinarizer()\n",
    "binary_variables.remove('Survived')\n",
    "for column in binary_variables:\n",
    "    df[column] = lb.fit_transform(df[column])\n",
    "\n",
    "# ohc for categorical variables #\n",
    "df = pd.get_dummies(df, columns = categorical_variables, drop_first=True)\n",
    "\n",
    "print(df.shape)\n",
    "print(df.head())"
   ]
  },
  {
   "cell_type": "code",
   "execution_count": 9,
   "id": "0ab4c741",
   "metadata": {
    "execution": {
     "iopub.execute_input": "2022-03-23T15:07:22.154714Z",
     "iopub.status.busy": "2022-03-23T15:07:22.148594Z",
     "iopub.status.idle": "2022-03-23T15:07:22.156547Z",
     "shell.execute_reply": "2022-03-23T15:07:22.157113Z",
     "shell.execute_reply.started": "2022-03-23T14:31:58.321531Z"
    },
    "papermill": {
     "duration": 0.034998,
     "end_time": "2022-03-23T15:07:22.157288",
     "exception": false,
     "start_time": "2022-03-23T15:07:22.122290",
     "status": "completed"
    },
    "tags": []
   },
   "outputs": [],
   "source": [
    "# %% 5.Creating subsamples ###\n",
    "\n",
    "y = df['Survived']\n",
    "X = df.drop(columns=['Survived'])\n",
    "\n",
    "X_train, X_test, y_train, y_test = train_test_split(X, y, test_size=0.2, random_state=3)"
   ]
  },
  {
   "cell_type": "code",
   "execution_count": 10,
   "id": "a86bd321",
   "metadata": {
    "execution": {
     "iopub.execute_input": "2022-03-23T15:07:22.205780Z",
     "iopub.status.busy": "2022-03-23T15:07:22.205097Z",
     "iopub.status.idle": "2022-03-23T15:07:22.621145Z",
     "shell.execute_reply": "2022-03-23T15:07:22.620581Z",
     "shell.execute_reply.started": "2022-03-23T14:36:00.492203Z"
    },
    "papermill": {
     "duration": 0.44165,
     "end_time": "2022-03-23T15:07:22.621294",
     "exception": false,
     "start_time": "2022-03-23T15:07:22.179644",
     "status": "completed"
    },
    "tags": []
   },
   "outputs": [
    {
     "data": {
      "image/png": "[encoded data removed]",
      "text/plain": [
       "<Figure size 432x288 with 3 Axes>"
      ]
     },
     "metadata": {
      "needs_background": "light"
     },
     "output_type": "display_data"
    }
   ],
   "source": [
    "# %% 6.scaling numeric variables ###\n",
    "\n",
    "draw_histograms(X_train, numeric_variables, 2, 3)"
   ]
  },
  {
   "cell_type": "code",
   "execution_count": 11,
   "id": "4ad1c504",
   "metadata": {
    "execution": {
     "iopub.execute_input": "2022-03-23T15:07:22.673561Z",
     "iopub.status.busy": "2022-03-23T15:07:22.672910Z",
     "iopub.status.idle": "2022-03-23T15:07:22.684247Z",
     "shell.execute_reply": "2022-03-23T15:07:22.684801Z",
     "shell.execute_reply.started": "2022-03-23T14:35:27.136225Z"
    },
    "papermill": {
     "duration": 0.040238,
     "end_time": "2022-03-23T15:07:22.684976",
     "exception": false,
     "start_time": "2022-03-23T15:07:22.644738",
     "status": "completed"
    },
    "tags": []
   },
   "outputs": [],
   "source": [
    "ss = StandardScaler()\n",
    "\n",
    "for column in [numeric_variables]:\n",
    "    X_train[column] = ss.fit_transform(X_train[column])\n",
    "    X_test[column] = ss.transform(X_test[column])"
   ]
  },
  {
   "cell_type": "code",
   "execution_count": 12,
   "id": "b4c92402",
   "metadata": {
    "execution": {
     "iopub.execute_input": "2022-03-23T15:07:22.735300Z",
     "iopub.status.busy": "2022-03-23T15:07:22.734654Z",
     "iopub.status.idle": "2022-03-23T15:07:25.747423Z",
     "shell.execute_reply": "2022-03-23T15:07:25.748634Z",
     "shell.execute_reply.started": "2022-03-23T14:46:04.770732Z"
    },
    "papermill": {
     "duration": 3.0407,
     "end_time": "2022-03-23T15:07:25.749068",
     "exception": false,
     "start_time": "2022-03-23T15:07:22.708368",
     "status": "completed"
    },
    "tags": []
   },
   "outputs": [
    {
     "name": "stdout",
     "output_type": "stream",
     "text": [
      "0.8147300469483568 {'C': 3.0, 'penalty': 'l2'}\n"
     ]
    }
   ],
   "source": [
    "####################\n",
    "### 7.Fit models ###\n",
    "####################\n",
    "\n",
    "#%% Logistic regression ###\n",
    "\n",
    "grid_values = {'penalty': ['l2'], 'C': list(np.arange(1,10.5,0.5))}\n",
    "lr = LogisticRegression()\n",
    "model_lr = GridSearchCV(lr, param_grid=grid_values, cv = 10)\n",
    "model_lr.fit(X_train, y_train)\n",
    "print(model_lr.best_score_, model_lr.best_params_)\n",
    "\n",
    "# model_lr.predict(X_test)"
   ]
  },
  {
   "cell_type": "code",
   "execution_count": 13,
   "id": "76de0161",
   "metadata": {
    "execution": {
     "iopub.execute_input": "2022-03-23T15:07:25.852285Z",
     "iopub.status.busy": "2022-03-23T15:07:25.851153Z",
     "iopub.status.idle": "2022-03-23T15:07:29.890600Z",
     "shell.execute_reply": "2022-03-23T15:07:29.891325Z",
     "shell.execute_reply.started": "2022-03-23T14:46:15.308231Z"
    },
    "papermill": {
     "duration": 4.098067,
     "end_time": "2022-03-23T15:07:29.891509",
     "exception": false,
     "start_time": "2022-03-23T15:07:25.793442",
     "status": "completed"
    },
    "tags": []
   },
   "outputs": [
    {
     "name": "stdout",
     "output_type": "stream",
     "text": [
      "0.8020148669796556 {'n_neighbors': 8}\n"
     ]
    }
   ],
   "source": [
    "#%% KNN ###\n",
    "\n",
    "grid_values = dict(n_neighbors=np.arange(1,40))\n",
    "knnm = KNeighborsClassifier()   \n",
    "model_knn = GridSearchCV(knnm, param_grid=grid_values, cv = 10)\n",
    "model_knn.fit(X_train, y_train)\n",
    "print(model_knn.best_score_, model_knn.best_params_)"
   ]
  },
  {
   "cell_type": "code",
   "execution_count": 14,
   "id": "fd5aa314",
   "metadata": {
    "execution": {
     "iopub.execute_input": "2022-03-23T15:07:29.944752Z",
     "iopub.status.busy": "2022-03-23T15:07:29.944017Z",
     "iopub.status.idle": "2022-03-23T15:07:34.391368Z",
     "shell.execute_reply": "2022-03-23T15:07:34.391887Z",
     "shell.execute_reply.started": "2022-03-23T14:46:28.158458Z"
    },
    "papermill": {
     "duration": 4.475593,
     "end_time": "2022-03-23T15:07:34.392110",
     "exception": false,
     "start_time": "2022-03-23T15:07:29.916517",
     "status": "completed"
    },
    "tags": []
   },
   "outputs": [
    {
     "name": "stdout",
     "output_type": "stream",
     "text": [
      "0.8034428794992176 {'C': 0.9000000000000001}\n"
     ]
    }
   ],
   "source": [
    "#%% SVM ###\n",
    "\n",
    "grid_values = {'C': np.arange(0.05, 1, 0.05)} \n",
    "svmm = svm.SVC(kernel='rbf')\n",
    "model_svm = GridSearchCV(svmm, param_grid=grid_values, cv = 10)\n",
    "model_svm.fit(X_train, y_train)\n",
    "print(model_svm.best_score_, model_svm.best_params_)"
   ]
  },
  {
   "cell_type": "code",
   "execution_count": 15,
   "id": "9c6cf109",
   "metadata": {
    "execution": {
     "iopub.execute_input": "2022-03-23T15:07:34.456506Z",
     "iopub.status.busy": "2022-03-23T15:07:34.455309Z",
     "iopub.status.idle": "2022-03-23T15:07:55.763812Z",
     "shell.execute_reply": "2022-03-23T15:07:55.763156Z",
     "shell.execute_reply.started": "2022-03-23T14:52:28.831943Z"
    },
    "papermill": {
     "duration": 21.344501,
     "end_time": "2022-03-23T15:07:55.763973",
     "exception": false,
     "start_time": "2022-03-23T15:07:34.419472",
     "status": "completed"
    },
    "tags": []
   },
   "outputs": [
    {
     "name": "stdout",
     "output_type": "stream",
     "text": [
      "0.8286811779769525 {'max_depth': 8, 'max_features': 0.6000000000000001}\n"
     ]
    }
   ],
   "source": [
    "#%% RF ###\n",
    "\n",
    "# may look here: https://www.geeksforgeeks.org/hyperparameter-tuning/\n",
    "\n",
    "grid_values = [{'max_depth': list(range(2, 9, 2)), 'max_features': list(np.arange(0.3,0.71,0.1))}]\n",
    "rfc = RandomForestClassifier(random_state=42)\n",
    "model_rf = GridSearchCV(rfc, grid_values, cv = 5, scoring='accuracy')\n",
    "model_rf.fit(X_train, y_train)\n",
    "print(model_rf.best_score_, model_rf.best_params_)"
   ]
  },
  {
   "cell_type": "code",
   "execution_count": 16,
   "id": "3cfb7a86",
   "metadata": {
    "execution": {
     "iopub.execute_input": "2022-03-23T15:07:55.819163Z",
     "iopub.status.busy": "2022-03-23T15:07:55.817910Z",
     "iopub.status.idle": "2022-03-23T15:43:23.232285Z",
     "shell.execute_reply": "2022-03-23T15:43:23.232821Z",
     "shell.execute_reply.started": "2022-02-08T19:19:31.696624Z"
    },
    "papermill": {
     "duration": 2127.443868,
     "end_time": "2022-03-23T15:43:23.233009",
     "exception": false,
     "start_time": "2022-03-23T15:07:55.789141",
     "status": "completed"
    },
    "tags": []
   },
   "outputs": [
    {
     "name": "stdout",
     "output_type": "stream",
     "text": [
      "Fitting 10 folds for each of 108 candidates, totalling 1080 fits\n",
      "0.8678841991341992 {'learning_rate': 0.15, 'max_depth': 3, 'n_estimators': 35}\n"
     ]
    }
   ],
   "source": [
    "#%% XGBoost ###\n",
    "# run this code only on Kaggle with GPU\n",
    "\n",
    "estimator = XGBClassifier(\n",
    "    nthread=4,\n",
    "    seed=42,\n",
    "    use_label_encoder=False\n",
    ")\n",
    "\n",
    "parameters = {\n",
    "    'max_depth': range (2, 5, 1),\n",
    "    'n_estimators': range(5, 50, 5),\n",
    "    'learning_rate': [0.01, 0.05, 0.1, 0.15]\n",
    "}\n",
    "\n",
    "grid_search = GridSearchCV(\n",
    "    estimator=estimator,\n",
    "    param_grid=parameters,\n",
    "    scoring = 'roc_auc',\n",
    "    n_jobs = 10,\n",
    "    cv = 10,\n",
    "    verbose=True\n",
    ")\n",
    "\n",
    "grid_search.fit(X_train, y_train, eval_metric='rmse')\n",
    "print(grid_search.best_score_, grid_search.best_params_)"
   ]
  },
  {
   "cell_type": "code",
   "execution_count": 17,
   "id": "daa2f67c",
   "metadata": {
    "execution": {
     "iopub.execute_input": "2022-03-23T15:43:23.294541Z",
     "iopub.status.busy": "2022-03-23T15:43:23.292399Z",
     "iopub.status.idle": "2022-03-23T15:43:23.335718Z",
     "shell.execute_reply": "2022-03-23T15:43:23.336291Z",
     "shell.execute_reply.started": "2022-03-23T14:53:51.840143Z"
    },
    "papermill": {
     "duration": 0.077841,
     "end_time": "2022-03-23T15:43:23.336470",
     "exception": false,
     "start_time": "2022-03-23T15:43:23.258629",
     "status": "completed"
    },
    "tags": []
   },
   "outputs": [
    {
     "name": "stdout",
     "output_type": "stream",
     "text": [
      "Accuracy of logistic regression is  0.7653631284916201\n",
      "Accuracy of KNN is  0.7988826815642458\n",
      "Accuracy of SVM is  0.7988826815642458\n",
      "Accuracy of RF is  0.8268156424581006\n"
     ]
    }
   ],
   "source": [
    "#%% 8.Evaluate performance oos ###\n",
    "\n",
    "yhat_lm = model_lr.predict(X_test)\n",
    "yhat_knn = model_knn.predict(X_test)\n",
    "yhat_svm = model_svm.predict(X_test)\n",
    "yhat_rf = model_rf.predict(X_test)\n",
    "#yhat_bt = grid_search.predict(X_test)\n",
    "print('Accuracy of logistic regression is ', 1-(np.abs(yhat_lm-y_test)).mean())\n",
    "print('Accuracy of KNN is ', 1-(np.abs(yhat_knn-y_test)).mean())\n",
    "print('Accuracy of SVM is ', 1-(np.abs(yhat_svm-y_test)).mean())\n",
    "print('Accuracy of RF is ', 1-(np.abs(yhat_rf-y_test)).mean())\n",
    "#print('Accuracy of Boosted Tree is ', 1-(np.abs(yhat_bt-y_test)).mean())"
   ]
  },
  {
   "cell_type": "code",
   "execution_count": null,
   "id": "ac9b55ba",
   "metadata": {
    "papermill": {
     "duration": 0.026205,
     "end_time": "2022-03-23T15:43:23.389007",
     "exception": false,
     "start_time": "2022-03-23T15:43:23.362802",
     "status": "completed"
    },
    "tags": []
   },
   "outputs": [],
   "source": []
  }
 ],
 "metadata": {
  "kernelspec": {
   "display_name": "Python 3",
   "language": "python",
   "name": "python3"
  },
  "language_info": {
   "codemirror_mode": {
    "name": "ipython",
    "version": 3
   },
   "file_extension": ".py",
   "mimetype": "text/x-python",
   "name": "python",
   "nbconvert_exporter": "python",
   "pygments_lexer": "ipython3",
   "version": "3.7.12"
  },
  "papermill": {
   "default_parameters": {},
   "duration": 2176.652548,
   "end_time": "2022-03-23T15:43:24.434102",
   "environment_variables": {},
   "exception": null,
   "input_path": "__notebook__.ipynb",
   "output_path": "__notebook__.ipynb",
   "parameters": {},
   "start_time": "2022-03-23T15:07:07.781554",
   "version": "2.3.3"
  }
 },
 "nbformat": 4,
 "nbformat_minor": 5
}
